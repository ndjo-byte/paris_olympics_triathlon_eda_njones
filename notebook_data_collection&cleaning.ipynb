{
 "cells": [
  {
   "cell_type": "code",
   "execution_count": 1,
   "metadata": {},
   "outputs": [],
   "source": [
    "import numpy as np \n",
    "import pandas as pd"
   ]
  },
  {
   "cell_type": "markdown",
   "metadata": {},
   "source": [
    "**importing data sets and converting to data frames**"
   ]
  },
  {
   "cell_type": "code",
   "execution_count": 16,
   "metadata": {},
   "outputs": [],
   "source": [
    "sydney_2000 = pd.read_csv('./male_olympics_results/results_2000_sydney.csv')"
   ]
  },
  {
   "cell_type": "code",
   "execution_count": 17,
   "metadata": {},
   "outputs": [],
   "source": [
    "athens_2004 = pd.read_csv('./male_olympics_results/results_2004_athens.csv')"
   ]
  },
  {
   "cell_type": "code",
   "execution_count": 18,
   "metadata": {},
   "outputs": [],
   "source": [
    "beijing_2008 = pd.read_csv('./male_olympics_results/results_2008_beijing.csv')"
   ]
  },
  {
   "cell_type": "code",
   "execution_count": 19,
   "metadata": {},
   "outputs": [],
   "source": [
    "london_2012 = pd.read_csv('./male_olympics_results/results_2012_london.csv')"
   ]
  },
  {
   "cell_type": "code",
   "execution_count": 20,
   "metadata": {},
   "outputs": [],
   "source": [
    "rio_2016 = pd.read_csv('./male_olympics_results/results_2016_rio.csv')"
   ]
  },
  {
   "cell_type": "code",
   "execution_count": 21,
   "metadata": {},
   "outputs": [],
   "source": [
    "tokyo_2020 = pd.read_csv('./male_olympics_results/results_2020_tokyo.csv')"
   ]
  },
  {
   "cell_type": "code",
   "execution_count": 22,
   "metadata": {},
   "outputs": [],
   "source": [
    "paris_2024 = pd.read_csv('./male_olympics_results/results_2024_paris.csv')"
   ]
  },
  {
   "cell_type": "markdown",
   "metadata": {},
   "source": [
    "**adding identifier columns to each dataframe: event and host_country**"
   ]
  },
  {
   "cell_type": "code",
   "execution_count": 26,
   "metadata": {},
   "outputs": [],
   "source": [
    "sydney_2000['event'] = 'sydney_2000'\n",
    "sydney_2000['host_country'] = 'AUS'"
   ]
  },
  {
   "cell_type": "code",
   "execution_count": 28,
   "metadata": {},
   "outputs": [],
   "source": [
    "athens_2004['event'] = 'athens_2004'\n",
    "athens_2004['host_country'] = 'GRE'"
   ]
  },
  {
   "cell_type": "code",
   "execution_count": 27,
   "metadata": {},
   "outputs": [],
   "source": [
    "beijing_2008['event'] = 'beijing_2008'\n",
    "beijing_2008['host_country'] = 'CHN'"
   ]
  },
  {
   "cell_type": "code",
   "execution_count": 29,
   "metadata": {},
   "outputs": [],
   "source": [
    "london_2012['event'] = 'london_2012'\n",
    "london_2012['host_country'] = 'GBR'"
   ]
  },
  {
   "cell_type": "code",
   "execution_count": 30,
   "metadata": {},
   "outputs": [],
   "source": [
    "rio_2016['event'] = 'rio_2016'\n",
    "rio_2016['host_country'] = 'BRA'"
   ]
  },
  {
   "cell_type": "code",
   "execution_count": 31,
   "metadata": {},
   "outputs": [],
   "source": [
    "tokyo_2020['event'] = 'tokyo_2020'\n",
    "tokyo_2020['host_country'] = 'JPN'"
   ]
  },
  {
   "cell_type": "code",
   "execution_count": 32,
   "metadata": {},
   "outputs": [],
   "source": [
    "paris_2024['event'] = 'paris_2024'\n",
    "paris_2024['host_country'] = 'FRA'"
   ]
  },
  {
   "cell_type": "markdown",
   "metadata": {},
   "source": [
    "**altering variable types for analysis**\n",
    "1. times from object to timedelta"
   ]
  },
  {
   "cell_type": "code",
   "execution_count": 36,
   "metadata": {},
   "outputs": [],
   "source": [
    "all_events = [sydney_2000, athens_2004, beijing_2008, london_2012, rio_2016, tokyo_2020, paris_2024]\n",
    "\n",
    "for event in all_events:\n",
    "    event['Swim'] = pd.to_timedelta(event['Swim'])\n",
    "    event['T1'] = pd.to_timedelta(event['T1'])\n",
    "    event['Bike'] = pd.to_timedelta(event['Bike'])\n",
    "    event['T2'] = pd.to_timedelta(event['T2'])\n",
    "    event['Run'] = pd.to_timedelta(event['Run'])\n",
    "    event['Total Time'] = pd.to_timedelta(event['Total Time'])"
   ]
  },
  {
   "cell_type": "markdown",
   "metadata": {},
   "source": [
    "2. athlete_id and program_id to objects to treat as labels"
   ]
  },
  {
   "cell_type": "code",
   "execution_count": 38,
   "metadata": {},
   "outputs": [],
   "source": [
    "for event in all_events:\n",
    "    event['Program ID'] = event['Program ID'].astype('object')\n",
    "    event['Athlete ID'] = event['Athlete ID'].astype('object')\n",
    "    event['Start Number'] = event['Start Number'].astype('object')\n",
    "    "
   ]
  },
  {
   "cell_type": "markdown",
   "metadata": {},
   "source": [
    "3. status_column\n",
    "3(i) removing all rows in which status_column == DNF(DidNotFinish) or DNS(DidNotStart) or DSQ(DiSQualified) or LAP(Lapped)"
   ]
  },
  {
   "cell_type": "code",
   "execution_count": 45,
   "metadata": {},
   "outputs": [
    {
     "data": {
      "text/html": [
       "<div>\n",
       "<style scoped>\n",
       "    .dataframe tbody tr th:only-of-type {\n",
       "        vertical-align: middle;\n",
       "    }\n",
       "\n",
       "    .dataframe tbody tr th {\n",
       "        vertical-align: top;\n",
       "    }\n",
       "\n",
       "    .dataframe thead th {\n",
       "        text-align: right;\n",
       "    }\n",
       "</style>\n",
       "<table border=\"1\" class=\"dataframe\">\n",
       "  <thead>\n",
       "    <tr style=\"text-align: right;\">\n",
       "      <th></th>\n",
       "      <th>Program ID</th>\n",
       "      <th>Athlete ID</th>\n",
       "      <th>Athlete First Name</th>\n",
       "      <th>Athlete Last Name</th>\n",
       "      <th>Country</th>\n",
       "      <th>Start Number</th>\n",
       "      <th>Swim</th>\n",
       "      <th>T1</th>\n",
       "      <th>Bike</th>\n",
       "      <th>T2</th>\n",
       "      <th>Run</th>\n",
       "      <th>Position</th>\n",
       "      <th>Status</th>\n",
       "      <th>Total Time</th>\n",
       "      <th>event</th>\n",
       "      <th>host_country</th>\n",
       "    </tr>\n",
       "  </thead>\n",
       "  <tbody>\n",
       "    <tr>\n",
       "      <th>50</th>\n",
       "      <td>4392</td>\n",
       "      <td>5851</td>\n",
       "      <td>Tony</td>\n",
       "      <td>Moulai</td>\n",
       "      <td>FRA</td>\n",
       "      <td>39</td>\n",
       "      <td>0 days 00:18:27</td>\n",
       "      <td>0 days 00:00:29</td>\n",
       "      <td>0 days 00:58:49</td>\n",
       "      <td>0 days 00:00:29</td>\n",
       "      <td>0 days</td>\n",
       "      <td>NaN</td>\n",
       "      <td>DNF</td>\n",
       "      <td>0 days</td>\n",
       "      <td>beijing_2008</td>\n",
       "      <td>CHN</td>\n",
       "    </tr>\n",
       "    <tr>\n",
       "      <th>51</th>\n",
       "      <td>4392</td>\n",
       "      <td>5305</td>\n",
       "      <td>Tim</td>\n",
       "      <td>Don</td>\n",
       "      <td>GBR</td>\n",
       "      <td>37</td>\n",
       "      <td>0 days 00:18:54</td>\n",
       "      <td>0 days 00:00:26</td>\n",
       "      <td>0 days 00:00:00</td>\n",
       "      <td>0 days 00:00:00</td>\n",
       "      <td>0 days</td>\n",
       "      <td>-3.0</td>\n",
       "      <td>LAP</td>\n",
       "      <td>0 days</td>\n",
       "      <td>beijing_2008</td>\n",
       "      <td>CHN</td>\n",
       "    </tr>\n",
       "    <tr>\n",
       "      <th>52</th>\n",
       "      <td>4392</td>\n",
       "      <td>5355</td>\n",
       "      <td>Andriy</td>\n",
       "      <td>Glushchenko</td>\n",
       "      <td>UKR</td>\n",
       "      <td>1</td>\n",
       "      <td>0 days 00:18:58</td>\n",
       "      <td>0 days 00:00:26</td>\n",
       "      <td>0 days 00:00:00</td>\n",
       "      <td>0 days 00:00:00</td>\n",
       "      <td>0 days</td>\n",
       "      <td>-3.0</td>\n",
       "      <td>LAP</td>\n",
       "      <td>0 days</td>\n",
       "      <td>beijing_2008</td>\n",
       "      <td>CHN</td>\n",
       "    </tr>\n",
       "    <tr>\n",
       "      <th>53</th>\n",
       "      <td>4392</td>\n",
       "      <td>5750</td>\n",
       "      <td>Marek</td>\n",
       "      <td>Jaskolka</td>\n",
       "      <td>POL</td>\n",
       "      <td>49</td>\n",
       "      <td>0 days 00:18:54</td>\n",
       "      <td>0 days 00:00:29</td>\n",
       "      <td>0 days 00:00:00</td>\n",
       "      <td>0 days 00:00:00</td>\n",
       "      <td>0 days</td>\n",
       "      <td>-3.0</td>\n",
       "      <td>LAP</td>\n",
       "      <td>0 days</td>\n",
       "      <td>beijing_2008</td>\n",
       "      <td>CHN</td>\n",
       "    </tr>\n",
       "    <tr>\n",
       "      <th>54</th>\n",
       "      <td>4392</td>\n",
       "      <td>6997</td>\n",
       "      <td>Pavel</td>\n",
       "      <td>Simko</td>\n",
       "      <td>SVK</td>\n",
       "      <td>46</td>\n",
       "      <td>0 days 00:00:00</td>\n",
       "      <td>0 days 00:00:00</td>\n",
       "      <td>0 days 00:00:00</td>\n",
       "      <td>0 days 00:00:00</td>\n",
       "      <td>0 days</td>\n",
       "      <td>NaN</td>\n",
       "      <td>DNF</td>\n",
       "      <td>0 days</td>\n",
       "      <td>beijing_2008</td>\n",
       "      <td>CHN</td>\n",
       "    </tr>\n",
       "  </tbody>\n",
       "</table>\n",
       "</div>"
      ],
      "text/plain": [
       "   Program ID Athlete ID Athlete First Name Athlete Last Name Country  \\\n",
       "50       4392       5851               Tony            Moulai     FRA   \n",
       "51       4392       5305                Tim               Don     GBR   \n",
       "52       4392       5355             Andriy       Glushchenko     UKR   \n",
       "53       4392       5750              Marek          Jaskolka     POL   \n",
       "54       4392       6997              Pavel             Simko     SVK   \n",
       "\n",
       "   Start Number            Swim              T1            Bike  \\\n",
       "50           39 0 days 00:18:27 0 days 00:00:29 0 days 00:58:49   \n",
       "51           37 0 days 00:18:54 0 days 00:00:26 0 days 00:00:00   \n",
       "52            1 0 days 00:18:58 0 days 00:00:26 0 days 00:00:00   \n",
       "53           49 0 days 00:18:54 0 days 00:00:29 0 days 00:00:00   \n",
       "54           46 0 days 00:00:00 0 days 00:00:00 0 days 00:00:00   \n",
       "\n",
       "                T2    Run  Position Status Total Time         event  \\\n",
       "50 0 days 00:00:29 0 days       NaN    DNF     0 days  beijing_2008   \n",
       "51 0 days 00:00:00 0 days      -3.0    LAP     0 days  beijing_2008   \n",
       "52 0 days 00:00:00 0 days      -3.0    LAP     0 days  beijing_2008   \n",
       "53 0 days 00:00:00 0 days      -3.0    LAP     0 days  beijing_2008   \n",
       "54 0 days 00:00:00 0 days       NaN    DNF     0 days  beijing_2008   \n",
       "\n",
       "   host_country  \n",
       "50          CHN  \n",
       "51          CHN  \n",
       "52          CHN  \n",
       "53          CHN  \n",
       "54          CHN  "
      ]
     },
     "execution_count": 45,
     "metadata": {},
     "output_type": "execute_result"
    }
   ],
   "source": [
    "beijing_2008[ (beijing_2008['Status']=='DNF') | (beijing_2008['Status']=='DNS') | (beijing_2008['Status']=='DSQ') | (beijing_2008['Status']=='LAP')]"
   ]
  },
  {
   "cell_type": "code",
   "execution_count": 46,
   "metadata": {},
   "outputs": [],
   "source": [
    "for event in all_events:\n",
    "    event.drop( \n",
    "        event.loc[ (event['Status']=='DNF') | \n",
    "                  (event['Status']=='DNS') | \n",
    "                  (event['Status']=='DSQ') | \n",
    "                  (event['Status']=='LAP')].index, \n",
    "                inplace=True \n",
    "            )\n"
   ]
  },
  {
   "cell_type": "markdown",
   "metadata": {},
   "source": [
    "4. delete Status column which is now redundant."
   ]
  },
  {
   "cell_type": "code",
   "execution_count": 47,
   "metadata": {},
   "outputs": [],
   "source": [
    "for event in all_events:\n",
    "    event.drop('Status', axis=1, inplace=True)"
   ]
  },
  {
   "cell_type": "code",
   "execution_count": 48,
   "metadata": {},
   "outputs": [
    {
     "name": "stdout",
     "output_type": "stream",
     "text": [
      "<class 'pandas.core.frame.DataFrame'>\n",
      "RangeIndex: 50 entries, 0 to 49\n",
      "Data columns (total 15 columns):\n",
      " #   Column              Non-Null Count  Dtype          \n",
      "---  ------              --------------  -----          \n",
      " 0   Program ID          50 non-null     object         \n",
      " 1   Athlete ID          50 non-null     object         \n",
      " 2   Athlete First Name  50 non-null     object         \n",
      " 3   Athlete Last Name   50 non-null     object         \n",
      " 4   Country             50 non-null     object         \n",
      " 5   Start Number        50 non-null     object         \n",
      " 6   Swim                50 non-null     timedelta64[ns]\n",
      " 7   T1                  50 non-null     timedelta64[ns]\n",
      " 8   Bike                50 non-null     timedelta64[ns]\n",
      " 9   T2                  50 non-null     timedelta64[ns]\n",
      " 10  Run                 50 non-null     timedelta64[ns]\n",
      " 11  Position            50 non-null     float64        \n",
      " 12  Total Time          50 non-null     timedelta64[ns]\n",
      " 13  event               50 non-null     object         \n",
      " 14  host_country        50 non-null     object         \n",
      "dtypes: float64(1), object(8), timedelta64[ns](6)\n",
      "memory usage: 6.0+ KB\n"
     ]
    }
   ],
   "source": [
    "beijing_2008.info()"
   ]
  },
  {
   "cell_type": "markdown",
   "metadata": {},
   "source": [
    "**concatenating all data for final cleaning and to facilitate analysis**"
   ]
  },
  {
   "cell_type": "code",
   "execution_count": 65,
   "metadata": {},
   "outputs": [],
   "source": [
    "all_results = pd.concat([sydney_2000, athens_2004, beijing_2008, london_2012, rio_2016, tokyo_2020, paris_2024],\n",
    "                        keys=['sydney_2000', 'athens_2004', 'beijing_2008', 'london_2012', 'rio_2016', 'tokyo_2020', 'paris_2024'],\n",
    "                        ignore_index=True)"
   ]
  },
  {
   "cell_type": "markdown",
   "metadata": {},
   "source": [
    "**checking for any remaining nulls**"
   ]
  },
  {
   "cell_type": "code",
   "execution_count": 66,
   "metadata": {},
   "outputs": [
    {
     "data": {
      "text/plain": [
       "Program ID            0\n",
       "Athlete ID            0\n",
       "Athlete First Name    0\n",
       "Athlete Last Name     0\n",
       "Country               0\n",
       "Start Number          0\n",
       "Swim                  0\n",
       "T1                    0\n",
       "Bike                  0\n",
       "T2                    0\n",
       "Run                   0\n",
       "Position              0\n",
       "Total Time            0\n",
       "event                 0\n",
       "host_country          0\n",
       "dtype: int64"
      ]
     },
     "execution_count": 66,
     "metadata": {},
     "output_type": "execute_result"
    }
   ],
   "source": [
    "all_results.isna().sum()"
   ]
  },
  {
   "cell_type": "markdown",
   "metadata": {},
   "source": [
    "**some final cleaning**\n",
    "1. standardising column names"
   ]
  },
  {
   "cell_type": "code",
   "execution_count": 68,
   "metadata": {},
   "outputs": [],
   "source": [
    "#all columns to lowercase\n",
    "all_results.columns = map(str.lower, all_results.columns)"
   ]
  },
  {
   "cell_type": "code",
   "execution_count": 74,
   "metadata": {},
   "outputs": [],
   "source": [
    "#removing spaces\n",
    "all_results.columns = [col.replace(' ', '_') for col in all_results.columns]"
   ]
  },
  {
   "cell_type": "code",
   "execution_count": 75,
   "metadata": {},
   "outputs": [
    {
     "name": "stdout",
     "output_type": "stream",
     "text": [
      "<class 'pandas.core.frame.DataFrame'>\n",
      "RangeIndex: 345 entries, 0 to 344\n",
      "Data columns (total 15 columns):\n",
      " #   Column              Non-Null Count  Dtype          \n",
      "---  ------              --------------  -----          \n",
      " 0   program_id          345 non-null    object         \n",
      " 1   athlete_id          345 non-null    object         \n",
      " 2   athlete_first_name  345 non-null    object         \n",
      " 3   athlete_last_name   345 non-null    object         \n",
      " 4   country             345 non-null    object         \n",
      " 5   start_number        345 non-null    object         \n",
      " 6   swim                345 non-null    timedelta64[ns]\n",
      " 7   t1                  345 non-null    timedelta64[ns]\n",
      " 8   bike                345 non-null    timedelta64[ns]\n",
      " 9   t2                  345 non-null    timedelta64[ns]\n",
      " 10  run                 345 non-null    timedelta64[ns]\n",
      " 11  position            345 non-null    float64        \n",
      " 12  total_time          345 non-null    timedelta64[ns]\n",
      " 13  event               345 non-null    object         \n",
      " 14  host_country        345 non-null    object         \n",
      "dtypes: float64(1), object(8), timedelta64[ns](6)\n",
      "memory usage: 40.6+ KB\n"
     ]
    }
   ],
   "source": [
    "all_results.info()"
   ]
  },
  {
   "cell_type": "markdown",
   "metadata": {},
   "source": [
    "**saving to csv to keep an original version and for sharing**"
   ]
  },
  {
   "cell_type": "code",
   "execution_count": 76,
   "metadata": {},
   "outputs": [],
   "source": [
    "all_results.to_csv('all_results.csv', index=False, header=True)"
   ]
  },
  {
   "cell_type": "code",
   "execution_count": null,
   "metadata": {},
   "outputs": [],
   "source": [
    "all_results"
   ]
  }
 ],
 "metadata": {
  "kernelspec": {
   "display_name": "base",
   "language": "python",
   "name": "python3"
  },
  "language_info": {
   "codemirror_mode": {
    "name": "ipython",
    "version": 3
   },
   "file_extension": ".py",
   "mimetype": "text/x-python",
   "name": "python",
   "nbconvert_exporter": "python",
   "pygments_lexer": "ipython3",
   "version": "3.12.4"
  }
 },
 "nbformat": 4,
 "nbformat_minor": 2
}
